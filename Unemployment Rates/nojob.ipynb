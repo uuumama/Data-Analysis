{
 "cells": [
  {
   "cell_type": "code",
   "execution_count": 17,
   "id": "6469aa9d-0e7e-4ef2-a99c-034047450a8b",
   "metadata": {},
   "outputs": [
    {
     "name": "stdout",
     "output_type": "stream",
     "text": [
      "<class 'pandas.core.frame.DataFrame'>\n",
      "RangeIndex: 910 entries, 0 to 909\n",
      "Data columns (total 26 columns):\n",
      " #   Column             Non-Null Count  Dtype  \n",
      "---  ------             --------------  -----  \n",
      " 0   date               910 non-null    object \n",
      " 1   overall_rate       910 non-null    float64\n",
      " 2   men_rate           910 non-null    float64\n",
      " 3   women_rate         910 non-null    float64\n",
      " 4   men_16_17_rate     910 non-null    float64\n",
      " 5   women_16_17_rate   910 non-null    float64\n",
      " 6   men_16_19_rate     910 non-null    float64\n",
      " 7   women_16_19_rate   910 non-null    float64\n",
      " 8   men_18_19_rate     910 non-null    float64\n",
      " 9   women_18_19_rate   910 non-null    float64\n",
      " 10  men_16_24_rate     910 non-null    float64\n",
      " 11  women_16_24_rate   910 non-null    float64\n",
      " 12  men_20_24_rate     910 non-null    float64\n",
      " 13  women_20_24_rate   910 non-null    float64\n",
      " 14  men_25plus_rate    910 non-null    float64\n",
      " 15  women_25plus_rate  910 non-null    float64\n",
      " 16  men_25_34_rate     910 non-null    float64\n",
      " 17  women_25_34_rate   910 non-null    float64\n",
      " 18  men_25_54_rate     910 non-null    float64\n",
      " 19  women_25_54_rate   910 non-null    float64\n",
      " 20  men_35_44_rate     910 non-null    float64\n",
      " 21  women_35_44_rate   910 non-null    float64\n",
      " 22  men_45_54_rate     910 non-null    float64\n",
      " 23  women_45_54_rate   910 non-null    float64\n",
      " 24  men_55plus_rate    910 non-null    float64\n",
      " 25  women_55plus_rate  358 non-null    float64\n",
      "dtypes: float64(25), object(1)\n",
      "memory usage: 185.0+ KB\n"
     ]
    }
   ],
   "source": [
    "# Import the pandas library and alias it as pd\n",
    "import pandas as pd\n",
    "\n",
    "# Set the file path to the CSV file containing unemployment rate data\n",
    "file_path = r\"C:\\Users\\moham\\Downloads\\df_sex_unemployment_rates.csv\"\n",
    "\n",
    "# Read the CSV file into a Pandas dataframe named 'nojob'\n",
    "nojob = pd.read_csv(file_path)\n",
    "\n",
    "# Display information about nojob, including data types and non-null counts\n",
    "nojob.info()"
   ]
  },
  {
   "cell_type": "code",
   "execution_count": 3,
   "id": "8c51051e-3889-46f1-902e-2ab44b1046bb",
   "metadata": {},
   "outputs": [
    {
     "name": "stdout",
     "output_type": "stream",
     "text": [
      "Null values in each column\n",
      "date                   0\n",
      "overall_rate           0\n",
      "men_rate               0\n",
      "women_rate             0\n",
      "men_16_17_rate         0\n",
      "women_16_17_rate       0\n",
      "men_16_19_rate         0\n",
      "women_16_19_rate       0\n",
      "men_18_19_rate         0\n",
      "women_18_19_rate       0\n",
      "men_16_24_rate         0\n",
      "women_16_24_rate       0\n",
      "men_20_24_rate         0\n",
      "women_20_24_rate       0\n",
      "men_25plus_rate        0\n",
      "women_25plus_rate      0\n",
      "men_25_34_rate         0\n",
      "women_25_34_rate       0\n",
      "men_25_54_rate         0\n",
      "women_25_54_rate       0\n",
      "men_35_44_rate         0\n",
      "women_35_44_rate       0\n",
      "men_45_54_rate         0\n",
      "women_45_54_rate       0\n",
      "men_55plus_rate        0\n",
      "women_55plus_rate    552\n",
      "dtype: int64\n"
     ]
    }
   ],
   "source": [
    "# Calculate and print the number of null values in each column\n",
    "null_values = nojob.isnull().sum()\n",
    "print(\"Null values in each column\")\n",
    "print(null_values)\n"
   ]
  },
  {
   "cell_type": "code",
   "execution_count": 4,
   "id": "00efc787-5b06-472a-8a5f-13984bea2c23",
   "metadata": {},
   "outputs": [
    {
     "name": "stdout",
     "output_type": "stream",
     "text": [
      "Dates with null values\n",
      "           date  women_55plus_rate\n",
      "0    1948-01-01                NaN\n",
      "1    1948-02-01                NaN\n",
      "2    1948-03-01                NaN\n",
      "3    1948-04-01                NaN\n",
      "4    1948-05-01                NaN\n",
      "..          ...                ...\n",
      "547  1993-08-01                NaN\n",
      "548  1993-09-01                NaN\n",
      "549  1993-10-01                NaN\n",
      "550  1993-11-01                NaN\n",
      "551  1993-12-01                NaN\n",
      "\n",
      "[552 rows x 2 columns]\n"
     ]
    }
   ],
   "source": [
    "# Identify and print rows with null values, specifically showing the date and columns with null values\n",
    "null_rows = nojob.loc[nojob.isnull().any(axis=1)]\n",
    "print(\"Dates with null values\")\n",
    "print(null_rows[['date'] + list(null_rows.columns[null_rows.isnull().any()])])"
   ]
  },
  {
   "cell_type": "code",
   "execution_count": 22,
   "id": "39cef244-5828-4200-ac94-18e02db5ca0c",
   "metadata": {},
   "outputs": [],
   "source": [
    "# Select relevant columns to keep from nojob\n",
    "cols_to_keep = ['date', 'men_20_24_rate', 'women_20_24_rate', 'men_25plus_rate', 'women_25plus_rate',\n",
    "                'men_25_34_rate', 'women_25_34_rate', 'men_35_44_rate', 'women_35_44_rate',\n",
    "                'men_45_54_rate', 'women_45_54_rate', 'men_55plus_rate', 'women_55plus_rate']\n",
    "nojob = nojob[cols_to_keep]\n",
    "\n",
    "\n",
    "# Calculate and add new columns representing aggregated rates for different gender and age groups\n",
    "nojob['20_plus_overall_rate'] = nojob[['men_20_24_rate', 'women_20_24_rate', 'men_25plus_rate', 'women_25plus_rate',\n",
    "                                        'men_25_34_rate', 'women_25_34_rate', 'men_35_44_rate', 'women_35_44_rate',\n",
    "                                        'men_45_54_rate', 'women_45_54_rate', 'men_55plus_rate', 'women_55plus_rate']].mean(axis=1, skipna=True)\n",
    "\n",
    "nojob['20_plus_men_rate'] = nojob[['men_20_24_rate', 'men_25plus_rate', 'men_25_34_rate', 'men_35_44_rate',\n",
    "                                    'men_45_54_rate', 'men_55plus_rate']].mean(axis=1, skipna=True)\n",
    "\n",
    "nojob['20_plus_women_rate'] = nojob[['women_20_24_rate', 'women_25plus_rate', 'women_25_34_rate',\n",
    "                                      'women_35_44_rate', 'women_45_54_rate', 'women_55plus_rate']].mean(axis=1, skipna=True)\n",
    "\n",
    "\n",
    "# Reshape nojob using the melt function to better accommodate Tableau Public for visualization\n",
    "melted_df = pd.melt(nojob, id_vars=['date'], value_vars=['men_20_24_rate', 'women_20_24_rate',\n",
    "                                                        'men_25_34_rate', 'women_25_34_rate',\n",
    "                                                        'men_35_44_rate', 'women_35_44_rate',\n",
    "                                                        'men_45_54_rate', 'women_45_54_rate',\n",
    "                                                        'men_55plus_rate', 'women_55plus_rate'],\n",
    "                   var_name='variable', value_name='value')\n",
    "\n",
    "# Extract gender and age range information from the variable column and create new columns\n",
    "melted_df['Gender'] = melted_df['variable'].apply(lambda x: 'Women' if 'women' in x.lower() else 'Men')\n",
    "melted_df['AgeRange'] = melted_df['variable'].apply(lambda x: f\"{x.split('_')[1]}-{x.split('_')[2]}\")\n"
   ]
  },
  {
   "cell_type": "code",
   "execution_count": 19,
   "id": "9aaa986b-a3d6-4ec6-bb1c-2e90c076e241",
   "metadata": {},
   "outputs": [
    {
     "name": "stdout",
     "output_type": "stream",
     "text": [
      "Melted nojob Information:\n",
      "<class 'pandas.core.frame.DataFrame'>\n",
      "RangeIndex: 9100 entries, 0 to 9099\n",
      "Data columns (total 5 columns):\n",
      " #   Column    Non-Null Count  Dtype  \n",
      "---  ------    --------------  -----  \n",
      " 0   date      9100 non-null   object \n",
      " 1   variable  9100 non-null   object \n",
      " 2   value     8548 non-null   float64\n",
      " 3   Gender    9100 non-null   object \n",
      " 4   AgeRange  9100 non-null   object \n",
      "dtypes: float64(1), object(4)\n",
      "memory usage: 355.6+ KB\n",
      "None\n"
     ]
    }
   ],
   "source": [
    "# Display melted nojob information\n",
    "print(\"Melted nojob Information:\")\n",
    "print(melted_df.info())"
   ]
  },
  {
   "cell_type": "code",
   "execution_count": 20,
   "id": "8e397ecf-2431-4cbd-9cc3-8d11d3bee2a9",
   "metadata": {},
   "outputs": [
    {
     "name": "stdout",
     "output_type": "stream",
     "text": [
      "First 20 rows of melted nojob:\n",
      "          date        variable  value Gender AgeRange\n",
      "0   1948-01-01  men_20_24_rate    7.2    Men    20-24\n",
      "1   1948-02-01  men_20_24_rate    7.4    Men    20-24\n",
      "2   1948-03-01  men_20_24_rate    9.0    Men    20-24\n",
      "3   1948-04-01  men_20_24_rate    7.9    Men    20-24\n",
      "4   1948-05-01  men_20_24_rate    7.6    Men    20-24\n",
      "5   1948-06-01  men_20_24_rate    6.9    Men    20-24\n",
      "6   1948-07-01  men_20_24_rate    6.0    Men    20-24\n",
      "7   1948-08-01  men_20_24_rate    6.2    Men    20-24\n",
      "8   1948-09-01  men_20_24_rate    6.3    Men    20-24\n",
      "9   1948-10-01  men_20_24_rate    5.6    Men    20-24\n",
      "10  1948-11-01  men_20_24_rate    5.7    Men    20-24\n",
      "11  1948-12-01  men_20_24_rate    6.9    Men    20-24\n",
      "12  1949-01-01  men_20_24_rate    7.7    Men    20-24\n",
      "13  1949-02-01  men_20_24_rate    8.5    Men    20-24\n",
      "14  1949-03-01  men_20_24_rate    9.3    Men    20-24\n",
      "15  1949-04-01  men_20_24_rate    9.1    Men    20-24\n",
      "16  1949-05-01  men_20_24_rate   11.1    Men    20-24\n",
      "17  1949-06-01  men_20_24_rate   11.0    Men    20-24\n",
      "18  1949-07-01  men_20_24_rate   12.5    Men    20-24\n",
      "19  1949-08-01  men_20_24_rate   12.1    Men    20-24\n"
     ]
    }
   ],
   "source": [
    "# Display the first 20 rows \n",
    "print(\"First 20 rows of melted nojob:\")\n",
    "print(melted_df.head(20))"
   ]
  },
  {
   "cell_type": "code",
   "execution_count": 21,
   "id": "f1f82c92-83ff-4094-98f4-0898729f7c68",
   "metadata": {},
   "outputs": [],
   "source": [
    "# Save the melted nojob to a new CSV file\n",
    "melted_df.to_csv('formatted_unemployment_data.csv', index=False)\n"
   ]
  },
  {
   "cell_type": "code",
   "execution_count": null,
   "id": "af6afe18-dc72-4458-8ffa-466fa26689c3",
   "metadata": {},
   "outputs": [],
   "source": []
  },
  {
   "cell_type": "code",
   "execution_count": null,
   "id": "8a77e593-7eb8-43d2-883b-7a6e14529af3",
   "metadata": {},
   "outputs": [],
   "source": []
  }
 ],
 "metadata": {
  "kernelspec": {
   "display_name": "Python 3 (ipykernel)",
   "language": "python",
   "name": "python3"
  },
  "language_info": {
   "codemirror_mode": {
    "name": "ipython",
    "version": 3
   },
   "file_extension": ".py",
   "mimetype": "text/x-python",
   "name": "python",
   "nbconvert_exporter": "python",
   "pygments_lexer": "ipython3",
   "version": "3.12.0"
  }
 },
 "nbformat": 4,
 "nbformat_minor": 5
}
